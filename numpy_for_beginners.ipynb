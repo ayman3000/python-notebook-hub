{
 "cells": [
  {
   "cell_type": "markdown",
   "id": "00d94d02",
   "metadata": {},
   "source": [
    "# Introduction: Why NumPy? 🚀\n",
    "\n",
    "NumPy (Numerical Python) is the fundamental package for numerical computation in Python. It provides support for large, multi-dimensional arrays and matrices, along with a vast collection of mathematical functions to operate on these arrays efficiently.\n",
    "\n",
    "**Why NumPy?**\n",
    "\n",
    "*   **Efficiency:** NumPy arrays are stored more compactly than Python lists and operations are optimized for speed.\n",
    "*   **Functionality:** NumPy provides a rich set of functions for linear algebra, Fourier transforms, random number generation, and more.\n",
    "*   **Convenience:** NumPy's array-oriented computing makes it easier to express complex mathematical operations.\n"
   ]
  },
  {
   "cell_type": "markdown",
   "id": "5414370b",
   "metadata": {},
   "source": [
    "# Setting Up: Getting Started 🛠️\n",
    "\n",
    "Let's start by importing the NumPy library and checking its version."
   ]
  },
  {
   "cell_type": "code",
   "execution_count": null,
   "id": "a3b9822f",
   "metadata": {},
   "outputs": [],
   "source": [
    "import numpy as np\n",
    "\n",
    "print(f\"NumPy version: {np.__version__}\")"
   ]
  },
  {
   "cell_type": "markdown",
   "id": "43ee12ca",
   "metadata": {},
   "source": [
    "# Creating NumPy Arrays 🧱\n",
    "\n",
    "NumPy arrays can be created from Python lists or using NumPy's built-in array creation functions."
   ]
  },
  {
   "cell_type": "code",
   "execution_count": null,
   "id": "d057136b",
   "metadata": {},
   "outputs": [],
   "source": [
    "# Creating arrays from Python lists\n",
    "list1 = [1, 2, 3, 4, 5]\n",
    "arr1 = np.array(list1)\n",
    "print(f\"Array from list: {arr1}\")\n",
    "\n",
    "list2 = [[1, 2, 3], [4, 5, 6]]\n",
    "arr2 = np.array(list2)\n",
    "print(f\"2D array from list: {arr2}\")\n",
    "\n",
    "# Using NumPy's array creation functions\n",
    "arr_zeros = np.zeros((2, 3))\n",
    "print(f\"Array of zeros:\\n{arr_zeros}\")\n",
    "\n",
    "arr_ones = np.ones((3, 2))\n",
    "print(f\"Array of ones:\\n{arr_ones}\")\n",
    "\n",
    "arr_empty = np.empty((2, 2))\n",
    "print(f\"Empty array (uninitialized):\\n{arr_empty}\")\n",
    "\n",
    "arr_arange = np.arange(10)\n",
    "print(f\"Array with arange: {arr_arange}\")\n",
    "\n",
    "arr_linspace = np.linspace(0, 1, 5)\n",
    "print(f\"Array with linspace: {arr_linspace}\")"
   ]
  },
  {
   "cell_type": "markdown",
   "id": "63e1c49e",
   "metadata": {},
   "source": [
    "### Example 1: Creating a checkerboard pattern\n",
    "\n"
   ]
  },
  {
   "cell_type": "code",
   "execution_count": null,
   "id": "9da7a1f8",
   "metadata": {},
   "outputs": [],
   "source": [
    "#Example 1: Creating a checkerboard pattern\n",
    "checkerboard = np.zeros((8, 8), dtype=int)\n",
    "checkerboard[1::2, ::2] = 1\n",
    "checkerboard[::2, 1::2] = 1\n",
    "print(\"Checkerboard pattern:\\n\", checkerboard)"
   ]
  },
  {
   "cell_type": "markdown",
   "id": "d2421741",
   "metadata": {},
   "source": [
    "### Example 2: Creating an identity matrix\n",
    "\n"
   ]
  },
  {
   "cell_type": "code",
   "execution_count": null,
   "id": "10be41d6",
   "metadata": {},
   "outputs": [],
   "source": [
    "#Example 2: Creating an identity matrix\n",
    "identity_matrix = np.eye(5)\n",
    "print(\"Identity matrix:\\n\", identity_matrix)"
   ]
  },
  {
   "cell_type": "markdown",
   "id": "b7ef86f9",
   "metadata": {},
   "source": [
    "### Example 3: Creating a diagonal matrix\n",
    "\n"
   ]
  },
  {
   "cell_type": "code",
   "execution_count": null,
   "id": "1d953f3c",
   "metadata": {},
   "outputs": [],
   "source": [
    "#Example 3: Creating a diagonal matrix\n",
    "diagonal = np.diag([1, 2, 3, 4])\n",
    "print(\"Diagonal matrix:\\n\", diagonal)"
   ]
  },
  {
   "cell_type": "markdown",
   "id": "d8ec3ed1",
   "metadata": {},
   "source": [
    "# Array Attributes: Understanding Your Data 🔍\n",
    "\n",
    "NumPy arrays have several useful attributes that provide information about their structure and data type."
   ]
  },
  {
   "cell_type": "code",
   "execution_count": null,
   "id": "4abdd84a",
   "metadata": {},
   "outputs": [],
   "source": [
    "arr = np.array([[1, 2, 3], [4, 5, 6]])\n",
    "\n",
    "print(f\"Shape: {arr.shape}\")  # (rows, columns)\n",
    "print(f\"Number of dimensions: {arr.ndim}\")\n",
    "print(f\"Data type: {arr.dtype}\")\n",
    "print(f\"Size (number of elements): {arr.size}\")\n",
    "\n",
    "# Why are these important?\n",
    "# Shape: Essential for understanding the structure of your data.\n",
    "# ndim: Helps you know if you're dealing with a vector, matrix, or higher-dimensional tensor.\n",
    "# dtype: Crucial for memory management and ensuring correct calculations.\n",
    "# size: Useful for pre-allocating memory or iterating through arrays."
   ]
  },
  {
   "cell_type": "markdown",
   "id": "ff280b9d",
   "metadata": {},
   "source": [
    "### Example 1: Checking image dimensions\n",
    "\n"
   ]
  },
  {
   "cell_type": "code",
   "execution_count": null,
   "id": "c9f2208a",
   "metadata": {},
   "outputs": [],
   "source": [
    "#Example 1: Checking image dimensions\n",
    "image = np.random.randint(0, 256, (100, 100, 3), dtype=np.uint8)  # 100x100 color image\n",
    "print(f\"Image shape: {image.shape} (height, width, color channels)\")\n",
    "print(f\"Image data type: {image.dtype}\")"
   ]
  },
  {
   "cell_type": "markdown",
   "id": "ac6df1a6",
   "metadata": {},
   "source": [
    "### Example 2: Analyzing sensor data\n",
    "\n"
   ]
  },
  {
   "cell_type": "code",
   "execution_count": null,
   "id": "a4e6be38",
   "metadata": {},
   "outputs": [],
   "source": [
    "#Example 2: Analyzing sensor data\n",
    "sensor_data = np.random.rand(1000, 5)  # 1000 readings, 5 sensors\n",
    "print(f\"Sensor data shape: {sensor_data.shape} (readings, sensors)\")\n",
    "print(f\"Sensor data type: {sensor_data.dtype}\")"
   ]
  },
  {
   "cell_type": "markdown",
   "id": "42e64265",
   "metadata": {},
   "source": [
    "### Example 3: Understanding time series data\n",
    "\n"
   ]
  },
  {
   "cell_type": "code",
   "execution_count": null,
   "id": "c2bd344d",
   "metadata": {},
   "outputs": [],
   "source": [
    "#Example 3: Understanding time series data\n",
    "time_series = np.arange(0, 10, 0.1) #creates sequence from 0 to 10 (exclusive), increasing by 0.1\n",
    "print(f\"Time series shape: {time_series.shape}\")\n",
    "print(f\"Time series dtype: {time_series.dtype}\")"
   ]
  },
  {
   "cell_type": "markdown",
   "id": "19b798be",
   "metadata": {},
   "source": [
    "# Array Indexing and Slicing 🔪\n",
    "\n",
    "Accessing individual elements or subarrays within a NumPy array is done using indexing and slicing."
   ]
  },
  {
   "cell_type": "code",
   "execution_count": null,
   "id": "2556dea4",
   "metadata": {},
   "outputs": [],
   "source": [
    "arr = np.array([10, 20, 30, 40, 50])\n",
    "\n",
    "print(f\"First element: {arr[0]}\")\n",
    "print(f\"Last element: {arr[-1]}\")\n",
    "\n",
    "print(f\"Slice from index 1 to 3: {arr[1:4]}\")\n",
    "print(f\"Slice from the beginning to index 2: {arr[:3]}\")\n",
    "print(f\"Slice from index 2 to the end: {arr[2:]}\")\n",
    "print(f\"Slice with a step of 2: {arr[::2]}\")\n",
    "\n",
    "arr2d = np.array([[1, 2, 3], [4, 5, 6], [7, 8, 9]])\n",
    "print(f\"Element at row 1, column 2: {arr2d[1, 2]}\")\n",
    "print(f\"Row 0: {arr2d[0, :]}\")\n",
    "print(f\"Column 1: {arr2d[:, 1]}\")"
   ]
  },
  {
   "cell_type": "markdown",
   "id": "ef3f78f2",
   "metadata": {},
   "source": [
    "### Example 1: Extracting a region of interest from an image\n",
    "\n"
   ]
  },
  {
   "cell_type": "code",
   "execution_count": null,
   "id": "2cc5068a",
   "metadata": {},
   "outputs": [],
   "source": [
    "#Example 1: Extracting a region of interest from an image\n",
    "image = np.random.randint(0, 256, (200, 300, 3), dtype=np.uint8)\n",
    "roi = image[50:150, 100:200]  # Crop a 100x100 region\n",
    "print(f\"Shape of ROI: {roi.shape}\")"
   ]
  },
  {
   "cell_type": "markdown",
   "id": "78c0d789",
   "metadata": {},
   "source": [
    "### Example 2: Accessing specific data points in a time series\n",
    "\n"
   ]
  },
  {
   "cell_type": "code",
   "execution_count": null,
   "id": "9b475dfd",
   "metadata": {},
   "outputs": [],
   "source": [
    "#Example 2: Accessing specific data points in a time series\n",
    "time_series = np.random.rand(100)\n",
    "last_10_values = time_series[-10:]\n",
    "print(f\"Last 10 values: {last_10_values}\")"
   ]
  },
  {
   "cell_type": "markdown",
   "id": "1ffcc42c",
   "metadata": {},
   "source": [
    "### Example 3: Selecting even-indexed rows from a dataset\n",
    "\n"
   ]
  },
  {
   "cell_type": "code",
   "execution_count": null,
   "id": "6c014e73",
   "metadata": {},
   "outputs": [],
   "source": [
    "#Example 3: Selecting even-indexed rows from a dataset\n",
    "data = np.random.rand(10, 5)\n",
    "even_rows = data[::2]\n",
    "print(f\"Shape of even rows: {even_rows.shape}\")"
   ]
  },
  {
   "cell_type": "markdown",
   "id": "7cdd7004",
   "metadata": {},
   "source": [
    "# Array Reshaping 🔄\n",
    "\n",
    "Changing the shape of an array is a common operation. NumPy provides several functions for reshaping arrays."
   ]
  },
  {
   "cell_type": "code",
   "execution_count": null,
   "id": "4358fcf5",
   "metadata": {},
   "outputs": [],
   "source": [
    "arr = np.arange(12)\n",
    "\n",
    "# Reshape to a 3x4 matrix\n",
    "arr_reshaped = arr.reshape(3, 4)\n",
    "print(f\"Reshaped array:\\n{arr_reshaped}\")\n",
    "\n",
    "# Add a dimension\n",
    "arr_expanded = np.expand_dims(arr, axis=0)  # Adds a dimension at the beginning\n",
    "print(f\"Expanded array shape: {arr_expanded.shape}\")\n",
    "\n",
    "# Flatten the array\n",
    "arr_flattened = arr_reshaped.flatten()\n",
    "print(f\"Flattened array: {arr_flattened}\")\n",
    "\n",
    "arr_raveled = arr_reshaped.ravel()\n",
    "print(f\"Raveled array: {arr_raveled}\")\n",
    "\n",
    "#Difference between flatten and ravel:\n",
    "#flatten returns a copy, ravel returns a view (if possible)"
   ]
  },
  {
   "cell_type": "markdown",
   "id": "95431e68",
   "metadata": {},
   "source": [
    "### Example 1: Reshaping image data for a neural network\n",
    "\n"
   ]
  },
  {
   "cell_type": "code",
   "execution_count": null,
   "id": "62eceea3",
   "metadata": {},
   "outputs": [],
   "source": [
    "#Example 1: Reshaping image data for a neural network\n",
    "image = np.random.randint(0, 256, (64, 64, 3), dtype=np.uint8)\n",
    "image_flattened = image.reshape(1, -1)  # Reshape to a 1D feature vector\n",
    "print(f\"Flattened image shape: {image_flattened.shape}\")"
   ]
  },
  {
   "cell_type": "markdown",
   "id": "d4198271",
   "metadata": {},
   "source": [
    "### Example 2: Adding a channel dimension to grayscale image\n",
    "\n"
   ]
  },
  {
   "cell_type": "code",
   "execution_count": null,
   "id": "a24d736a",
   "metadata": {},
   "outputs": [],
   "source": [
    "#Example 2: Adding a channel dimension to grayscale image\n",
    "grayscale_image = np.random.randint(0, 256, (100, 100), dtype=np.uint8)\n",
    "image_expanded = np.expand_dims(grayscale_image, axis=-1) # add channel dimension to the end\n",
    "print(f\"Expanded image shape: {image_expanded.shape}\")"
   ]
  },
  {
   "cell_type": "markdown",
   "id": "76ebac3a",
   "metadata": {},
   "source": [
    "### Example 3: Converting a multi-dimensional array to a vector for analysis\n",
    "\n"
   ]
  },
  {
   "cell_type": "code",
   "execution_count": null,
   "id": "9b026dd4",
   "metadata": {},
   "outputs": [],
   "source": [
    "#Example 3: Converting a multi-dimensional array to a vector for analysis\n",
    "data = np.random.rand(5, 5, 5)\n",
    "data_vector = data.ravel()\n",
    "print(f\"Original data shape: {data.shape}\")\n",
    "print(f\"Vectorized data shape: {data_vector.shape}\")"
   ]
  },
  {
   "cell_type": "markdown",
   "id": "6a2b3cce",
   "metadata": {},
   "source": [
    "# Array Operations: Math and More ➕\n",
    "\n",
    "NumPy allows you to perform element-wise operations on arrays, as well as more complex mathematical functions."
   ]
  },
  {
   "cell_type": "code",
   "execution_count": null,
   "id": "5c03bbf7",
   "metadata": {},
   "outputs": [],
   "source": [
    "arr1 = np.array([1, 2, 3])\n",
    "arr2 = np.array([4, 5, 6])\n",
    "\n",
    "print(f\"Addition: {arr1 + arr2}\")\n",
    "print(f\"Subtraction: {arr1 - arr2}\")\n",
    "print(f\"Multiplication: {arr1 * arr2}\")\n",
    "print(f\"Division: {arr1 / arr2}\")\n",
    "\n",
    "print(f\"Sine: {np.sin(arr1)}\")\n",
    "print(f\"Cosine: {np.cos(arr1)}\")\n",
    "print(f\"Exponential: {np.exp(arr1)}\")\n",
    "print(f\"Square root: {np.sqrt(arr2)}\")"
   ]
  },
  {
   "cell_type": "markdown",
   "id": "5b52d5bd",
   "metadata": {},
   "source": [
    "### Example 1: Normalizing pixel values in an image\n",
    "\n"
   ]
  },
  {
   "cell_type": "code",
   "execution_count": null,
   "id": "d80eccf0",
   "metadata": {},
   "outputs": [],
   "source": [
    "#Example 1: Normalizing pixel values in an image\n",
    "image = np.random.randint(0, 256, (100, 100), dtype=np.uint8)\n",
    "normalized_image = image / 255.0  # Scale pixel values to [0, 1]\n",
    "print(f\"Normalized image data type: {normalized_image.dtype}\")"
   ]
  },
  {
   "cell_type": "markdown",
   "id": "393a94dc",
   "metadata": {},
   "source": [
    "### Example 2: Applying a mathematical function to sensor readings\n",
    "\n"
   ]
  },
  {
   "cell_type": "code",
   "execution_count": null,
   "id": "a07e5740",
   "metadata": {},
   "outputs": [],
   "source": [
    "#Example 2: Applying a mathematical function to sensor readings\n",
    "sensor_data = np.random.rand(100)\n",
    "transformed_data = np.log(sensor_data)  # Apply a logarithmic transformation\n",
    "print(f\"Transformed data: {transformed_data[:5]}\")"
   ]
  },
  {
   "cell_type": "markdown",
   "id": "c9f318ed",
   "metadata": {},
   "source": [
    "### Example 3: Converting temperatures from Celsius to Fahrenheit\n",
    "\n"
   ]
  },
  {
   "cell_type": "code",
   "execution_count": null,
   "id": "74f1a882",
   "metadata": {},
   "outputs": [],
   "source": [
    "#Example 3: Converting temperatures from Celsius to Fahrenheit\n",
    "celsius_temps = np.array([0, 10, 20, 30, 40])\n",
    "fahrenheit_temps = (celsius_temps * 9/5) + 32\n",
    "print(f\"Fahrenheit temperatures: {fahrenheit_temps}\")"
   ]
  },
  {
   "cell_type": "markdown",
   "id": "6445b40d",
   "metadata": {},
   "source": [
    "# Array Aggregation: Summarizing Data 📊\n",
    "\n",
    "NumPy provides functions to compute summary statistics over arrays."
   ]
  },
  {
   "cell_type": "code",
   "execution_count": null,
   "id": "c105dd62",
   "metadata": {},
   "outputs": [],
   "source": [
    "arr = np.random.rand(100)\n",
    "\n",
    "print(f\"Sum: {np.sum(arr)}\")\n",
    "print(f\"Minimum: {np.min(arr)}\")\n",
    "print(f\"Maximum: {np.max(arr)}\")\n",
    "print(f\"Mean: {np.mean(arr)}\")\n",
    "print(f\"Median: {np.median(arr)}\")\n",
    "print(f\"Standard deviation: {np.std(arr)}\")\n",
    "print(f\"Variance: {np.var(arr)}\")\n",
    "\n",
    "arr2d = np.random.rand(5, 10)\n",
    "print(f\"Sum along axis 0: {np.sum(arr2d, axis=0)}\")  # Sum of each column\n",
    "print(f\"Mean along axis 1: {np.mean(arr2d, axis=1)}\") # Mean of each row"
   ]
  },
  {
   "cell_type": "markdown",
   "id": "cc133ffe",
   "metadata": {},
   "source": [
    "### Example 1: Calculating statistics of exam scores\n",
    "\n"
   ]
  },
  {
   "cell_type": "code",
   "execution_count": null,
   "id": "bbc4f624",
   "metadata": {},
   "outputs": [],
   "source": [
    "#Example 1: Calculating statistics of exam scores\n",
    "exam_scores = np.random.randint(50, 101, (30,)) # generates the array of size 30 (30 students)\n",
    "print(f\"Mean exam score: {np.mean(exam_scores)}\")\n",
    "print(f\"Highest exam score: {np.max(exam_scores)}\")\n",
    "print(f\"Lowest exam score: {np.min(exam_scores)}\")\n",
    "print(f\"Standard deviation of exam scores: {np.std(exam_scores)}\")"
   ]
  },
  {
   "cell_type": "markdown",
   "id": "c0835ad2",
   "metadata": {},
   "source": [
    "### Example 2: Analyzing sales data\n",
    "\n"
   ]
  },
  {
   "cell_type": "code",
   "execution_count": null,
   "id": "d1f1589d",
   "metadata": {},
   "outputs": [],
   "source": [
    "#Example 2: Analyzing sales data\n",
    "sales_data = np.random.randint(100, 1000, (12,)) # generates monthly data\n",
    "print(f\"Total sales: {np.sum(sales_data)}\")\n",
    "print(f\"Average monthly sales: {np.mean(sales_data)}\")\n",
    "print(f\"Maximum sales: {np.max(sales_data)}\")\n",
    "print(f\"Minimum sales: {np.min(sales_data)}\")"
   ]
  },
  {
   "cell_type": "markdown",
   "id": "54466ee2",
   "metadata": {},
   "source": [
    "### Example 3: Summarizing weather data (temperature)\n",
    "\n"
   ]
  },
  {
   "cell_type": "code",
   "execution_count": null,
   "id": "f83bc8f7",
   "metadata": {},
   "outputs": [],
   "source": [
    "#Example 3: Summarizing weather data (temperature)\n",
    "temperatures = np.random.randint(-10, 35, (30,)) # creates data for 30 days (celsius)\n",
    "print(f\"Average temperature: {np.mean(temperatures)}\")\n",
    "print(f\"Maximum temperature: {np.max(temperatures)}\")\n",
    "print(f\"Minimum temperature: {np.min(temperatures)}\")"
   ]
  },
  {
   "cell_type": "markdown",
   "id": "8d87ac3c",
   "metadata": {},
   "source": [
    "# Array Broadcasting: Operating on Different Shapes 📡\n",
    "\n",
    "Broadcasting allows NumPy to perform operations on arrays with different shapes, making element-wise operations possible even when the arrays don't have the exact same dimensions."
   ]
  },
  {
   "cell_type": "code",
   "execution_count": null,
   "id": "4c2cff9f",
   "metadata": {},
   "outputs": [],
   "source": [
    "arr1 = np.array([1, 2, 3])\n",
    "scalar = 5\n",
    "\n",
    "print(f\"Adding a scalar: {arr1 + scalar}\")\n",
    "\n",
    "arr2d = np.array([[1, 2, 3], [4, 5, 6]])\n",
    "arr1d = np.array([10, 20, 30])\n",
    "\n",
    "print(f\"Adding a 1D array to a 2D array:\\n{arr2d + arr1d}\")\n",
    "\n",
    "#Broadcasting rules:\n",
    "#1. If the two arrays differ in their number of dimensions, the shape of the one with fewer dimensions is padded with ones on its leading (left) side.\n",
    "#2. If the shape of the two arrays does not match in any dimension, the array with shape equal to 1 in that dimension is stretched to match the other shape.\n",
    "#3. If in any dimension the sizes disagree and neither is equal to 1, an error is raised."
   ]
  },
  {
   "cell_type": "markdown",
   "id": "c7014c6a",
   "metadata": {},
   "source": [
    "### Example 1: Adding a bias to each color channel of an image\n",
    "\n"
   ]
  },
  {
   "cell_type": "code",
   "execution_count": null,
   "id": "d23d36f3",
   "metadata": {},
   "outputs": [],
   "source": [
    "#Example 1: Adding a bias to each color channel of an image\n",
    "image = np.random.randint(0, 256, (100, 100, 3), dtype=np.uint8)\n",
    "bias = np.array([10, 20, 30]) #bias for each channel R, G, B\n",
    "biased_image = image + bias\n",
    "print(f\"Biased Image Shape: {biased_image.shape}\")"
   ]
  },
  {
   "cell_type": "markdown",
   "id": "3c33eb4b",
   "metadata": {},
   "source": [
    "### Example 2: Scaling each row of a data matrix by a different factor\n",
    "\n"
   ]
  },
  {
   "cell_type": "code",
   "execution_count": null,
   "id": "b5ddd9ae",
   "metadata": {},
   "outputs": [],
   "source": [
    "#Example 2: Scaling each row of a data matrix by a different factor\n",
    "data = np.random.rand(5, 4)\n",
    "scaling_factors = np.array([1, 2, 3, 4, 5]) #Different scaling factors for each row\n",
    "scaled_data = data * scaling_factors[:, np.newaxis] #scaling factors reshaped using np.newaxis\n",
    "print(f\"Scaled Data Shape: {scaled_data.shape}\")"
   ]
  },
  {
   "cell_type": "markdown",
   "id": "bd8c7c24",
   "metadata": {},
   "source": [
    "### Example 3: Centering data by subtracting the mean from each column\n",
    "\n"
   ]
  },
  {
   "cell_type": "code",
   "execution_count": null,
   "id": "89b5d354",
   "metadata": {},
   "outputs": [],
   "source": [
    "#Example 3: Centering data by subtracting the mean from each column\n",
    "data = np.random.rand(10, 3)\n",
    "column_means = data.mean(axis=0) #mean across each column\n",
    "centered_data = data - column_means #subtracting the mean from each column\n",
    "print(f\"Centered Data Shape: {centered_data.shape}\")"
   ]
  },
  {
   "cell_type": "markdown",
   "id": "2d5f3133",
   "metadata": {},
   "source": [
    "# Array Comparisons and Boolean Arrays ✅\n",
    "\n",
    "NumPy allows you to perform element-wise comparisons between arrays, resulting in Boolean arrays. These arrays can be used for masking and filtering data."
   ]
  },
  {
   "cell_type": "code",
   "execution_count": null,
   "id": "df1c9798",
   "metadata": {},
   "outputs": [],
   "source": [
    "arr = np.array([1, 2, 3, 4, 5])\n",
    "\n",
    "print(f\"Greater than 2: {arr > 2}\")\n",
    "print(f\"Equal to 3: {arr == 3}\")\n",
    "\n",
    "# Boolean array for masking\n",
    "mask = arr > 2\n",
    "print(f\"Elements greater than 2: {arr[mask]}\")\n",
    "\n",
    "arr2d = np.array([[1, 2, 3], [4, 5, 6], [7, 8, 9]])\n",
    "mask2d = arr2d > 4\n",
    "print(f\"Elements in arr2d greater than 4:\\n{arr2d[mask2d]}\")"
   ]
  },
  {
   "cell_type": "markdown",
   "id": "e87ab8d3",
   "metadata": {},
   "source": [
    "### Example 1: Filtering out outliers in sensor data\n",
    "\n"
   ]
  },
  {
   "cell_type": "code",
   "execution_count": null,
   "id": "b0890966",
   "metadata": {},
   "outputs": [],
   "source": [
    "#Example 1: Filtering out outliers in sensor data\n",
    "sensor_data = np.random.rand(100) * 100 #generate number between 0 and 100\n",
    "mean = np.mean(sensor_data)\n",
    "std = np.std(sensor_data)\n",
    "\n",
    "#Define a threshold for outlier detection (e.g., 2 standard deviations from the mean)\n",
    "threshold = 2 * std\n",
    "\n",
    "#Identify outliers\n",
    "outliers = sensor_data[(sensor_data > mean + threshold) | (sensor_data < mean - threshold)]\n",
    "print(f\"Outliers: {outliers}\")"
   ]
  },
  {
   "cell_type": "markdown",
   "id": "c08bad2d",
   "metadata": {},
   "source": [
    "### Example 2: Selecting data within a specific range\n",
    "\n"
   ]
  },
  {
   "cell_type": "code",
   "execution_count": null,
   "id": "d3431e90",
   "metadata": {},
   "outputs": [],
   "source": [
    "#Example 2: Selecting data within a specific range\n",
    "temperatures = np.random.randint(-5, 40, (30,))\n",
    "comfortable_temps = temperatures[(temperatures > 20) & (temperatures < 30)] #select temperatures between 20 and 30\n",
    "print(f\"Comfortable temperatures: {comfortable_temps}\")"
   ]
  },
  {
   "cell_type": "markdown",
   "id": "e7381c59",
   "metadata": {},
   "source": [
    "### Example 3: Masking pixels in an image based on a threshold\n",
    "\n"
   ]
  },
  {
   "cell_type": "code",
   "execution_count": null,
   "id": "8d59d296",
   "metadata": {},
   "outputs": [],
   "source": [
    "#Example 3: Masking pixels in an image based on a threshold\n",
    "image = np.random.randint(0, 256, (100, 100), dtype=np.uint8)\n",
    "threshold = 100\n",
    "\n",
    "#Create a mask for pixels below the threshold\n",
    "mask = image < threshold\n",
    "\n",
    "#Set pixels below the threshold to 0 (black)\n",
    "image[mask] = 0\n",
    "print(f\"Image after masking (first row): {image[0]}\")"
   ]
  },
  {
   "cell_type": "markdown",
   "id": "82e68303",
   "metadata": {},
   "source": [
    "# Array Sorting ↕️\n",
    "\n",
    "NumPy provides functions for sorting arrays. You can sort in place or obtain the indices that would sort the array."
   ]
  },
  {
   "cell_type": "code",
   "execution_count": null,
   "id": "1897b5c3",
   "metadata": {},
   "outputs": [],
   "source": [
    "arr = np.array([5, 2, 8, 1, 9])\n",
    "\n",
    "# Sort in place\n",
    "arr.sort()\n",
    "print(f\"Sorted array: {arr}\")\n",
    "\n",
    "arr = np.array([5, 2, 8, 1, 9])\n",
    "# Get the indices that would sort the array\n",
    "indices = np.argsort(arr)\n",
    "print(f\"Indices that would sort the array: {indices}\")\n",
    "print(f\"Sorted array using indices: {arr[indices]}\")"
   ]
  },
  {
   "cell_type": "markdown",
   "id": "c019a0aa",
   "metadata": {},
   "source": [
    "### Example 1: Sorting exam scores\n",
    "\n"
   ]
  },
  {
   "cell_type": "code",
   "execution_count": null,
   "id": "f6f75c3a",
   "metadata": {},
   "outputs": [],
   "source": [
    "#Example 1: Sorting exam scores\n",
    "exam_scores = np.random.randint(50, 101, (20,))\n",
    "sorted_indices = np.argsort(exam_scores)\n",
    "sorted_scores = exam_scores[sorted_indices]\n",
    "print(f\"Sorted exam scores: {sorted_scores}\")"
   ]
  },
  {
   "cell_type": "markdown",
   "id": "bc3389a1",
   "metadata": {},
   "source": [
    "### Example 2: Finding the top N elements in a dataset\n",
    "\n"
   ]
  },
  {
   "cell_type": "code",
   "execution_count": null,
   "id": "3629d57f",
   "metadata": {},
   "outputs": [],
   "source": [
    "#Example 2: Finding the top N elements in a dataset\n",
    "data = np.random.rand(100)\n",
    "n = 5\n",
    "top_n_indices = np.argsort(data)[-n:]\n",
    "top_n_values = data[top_n_indices]\n",
    "print(f\"Top {n} values: {top_n_values}\")"
   ]
  },
  {
   "cell_type": "markdown",
   "id": "c7f89afe",
   "metadata": {},
   "source": [
    "### Example 3: Sorting images by their average intensity\n",
    "\n"
   ]
  },
  {
   "cell_type": "code",
   "execution_count": null,
   "id": "a7c30e4c",
   "metadata": {},
   "outputs": [],
   "source": [
    "#Example 3: Sorting images by their average intensity\n",
    "num_images = 10\n",
    "image_size = (50, 50)\n",
    "images = np.random.randint(0, 256, (num_images, *image_size))\n",
    "\n",
    "#Calculate the average intensity for each image\n",
    "average_intensities = images.mean(axis=(1,2))\n",
    "\n",
    "#Sort the images by average intensity\n",
    "sorted_indices = np.argsort(average_intensities)\n",
    "sorted_images = images[sorted_indices]\n",
    "print(f\"Sorted images shape: {sorted_images.shape}\")"
   ]
  },
  {
   "cell_type": "markdown",
   "id": "bc226f43",
   "metadata": {},
   "source": [
    "# Linear Algebra with NumPy ⚔️\n",
    "\n",
    "NumPy provides a comprehensive set of functions for linear algebra operations."
   ]
  },
  {
   "cell_type": "code",
   "execution_count": null,
   "id": "a5a33d58",
   "metadata": {},
   "outputs": [],
   "source": [
    "matrix1 = np.array([[1, 2], [3, 4]])\n",
    "matrix2 = np.array([[5, 6], [7, 8]])\n",
    "\n",
    "# Matrix multiplication\n",
    "product = np.matmul(matrix1, matrix2)  #or matrix1 @ matrix2\n",
    "print(f\"Matrix product:\\n{product}\")\n",
    "\n",
    "# Transpose\n",
    "transposed_matrix = matrix1.T # or np.transpose(matrix1)\n",
    "print(f\"Transposed matrix:\\n{transposed_matrix}\")\n",
    "\n",
    "# Determinant\n",
    "determinant = np.linalg.det(matrix1)\n",
    "print(f\"Determinant of matrix1: {determinant}\")\n",
    "\n",
    "# Inverse\n",
    "try:\n",
    "    inverse = np.linalg.inv(matrix1)\n",
    "    print(f\"Inverse of matrix1:\\n{inverse}\")\n",
    "except np.linalg.LinAlgError:\n",
    "    print(\"Matrix is singular and has no inverse.\")\n",
    "\n",
    "# Eigenvalues and eigenvectors\n",
    "eigenvalues, eigenvectors = np.linalg.eig(matrix1)\n",
    "print(f\"Eigenvalues: {eigenvalues}\")\n",
    "print(f\"Eigenvectors:\\n{eigenvectors}\")"
   ]
  },
  {
   "cell_type": "markdown",
   "id": "d15d2211",
   "metadata": {},
   "source": [
    "### Example 1: Solving a system of linear equations\n",
    "\n"
   ]
  },
  {
   "cell_type": "code",
   "execution_count": null,
   "id": "cca38686",
   "metadata": {},
   "outputs": [],
   "source": [
    "#Example 1: Solving a system of linear equations\n",
    "#Ax = b\n",
    "A = np.array([[2, 1], [1, 3]])\n",
    "b = np.array([1, 2])\n",
    "\n",
    "x = np.linalg.solve(A, b)\n",
    "print(f\"Solution: {x}\")"
   ]
  },
  {
   "cell_type": "markdown",
   "id": "22a61b14",
   "metadata": {},
   "source": [
    "### Example 2: Calculating principal components of a dataset\n",
    "\n"
   ]
  },
  {
   "cell_type": "code",
   "execution_count": null,
   "id": "f100e425",
   "metadata": {},
   "outputs": [],
   "source": [
    "#Example 2: Calculating principal components of a dataset\n",
    "# (Simplified example - PCA typically involves more steps)\n",
    "data = np.random.rand(10, 2)\n",
    "#Center the data\n",
    "mean = np.mean(data, axis=0)\n",
    "centered_data = data - mean\n",
    "\n",
    "#Calculate the covariance matrix\n",
    "covariance_matrix = np.cov(centered_data.T)\n",
    "\n",
    "#Calculate eigenvalues and eigenvectors\n",
    "eigenvalues, eigenvectors = np.linalg.eig(covariance_matrix)\n",
    "print(f\"Eigenvectors:\\n{eigenvectors}\")"
   ]
  },
  {
   "cell_type": "markdown",
   "id": "99542f1a",
   "metadata": {},
   "source": [
    "### Example 3: Transforming vectors using a rotation matrix\n",
    "\n"
   ]
  },
  {
   "cell_type": "code",
   "execution_count": null,
   "id": "9aad9125",
   "metadata": {},
   "outputs": [],
   "source": [
    "#Example 3: Transforming vectors using a rotation matrix\n",
    "import math\n",
    "\n",
    "def rotation_matrix(angle):\n",
    "    c = np.cos(angle)\n",
    "    s = np.sin(angle)\n",
    "    return np.array([[c, -s], [s, c]])\n",
    "\n",
    "vector = np.array([1, 0])\n",
    "angle = math.pi / 4 # 45 degrees\n",
    "\n",
    "rotation = rotation_matrix(angle)\n",
    "rotated_vector = rotation @ vector\n",
    "\n",
    "print(f\"Rotated Vector: {rotated_vector}\")"
   ]
  },
  {
   "cell_type": "markdown",
   "id": "01922d36",
   "metadata": {},
   "source": [
    "# Random Number Generation 🎲\n",
    "\n",
    "NumPy's `random` module allows you to generate arrays of random numbers from various distributions."
   ]
  },
  {
   "cell_type": "code",
   "execution_count": null,
   "id": "c8581874",
   "metadata": {},
   "outputs": [],
   "source": [
    " # Generate random numbers from a uniform distribution (between 0 and 1)\n",
    "arr_rand = np.random.rand(3, 3)\n",
    "print(f\"Random uniform array:\\n{arr_rand}\")\n",
    "\n",
    "# Generate random numbers from a standard normal distribution (mean 0, std 1)\n",
    "arr_randn = np.random.randn(2, 2)\n",
    "print(f\"Random normal array:\\n{arr_randn}\")\n",
    "\n",
    "# Generate random integers within a specified range\n",
    "arr_randint = np.random.randint(1, 10, (5,))\n",
    "print(f\"Random integer array: {arr_randint}\")\n",
    "\n",
    "# Setting the random seed for reproducibility\n",
    "np.random.seed(42)\n",
    "print(f\"Random number with seed 42: {np.random.rand()}\")\n",
    "\n",
    "np.random.seed(42) #seed must be set before each usage\n",
    "print(f\"Another random number with seed 42: {np.random.rand()}\")"
   ]
  },
  {
   "cell_type": "markdown",
   "id": "362fdd00",
   "metadata": {},
   "source": [
    "### Example 1: Simulating dice rolls\n",
    "\n"
   ]
  },
  {
   "cell_type": "code",
   "execution_count": null,
   "id": "919256de",
   "metadata": {},
   "outputs": [],
   "source": [
    "#Example 1: Simulating dice rolls\n",
    "num_rolls = 10\n",
    "dice_rolls = np.random.randint(1, 7, (num_rolls,))\n",
    "print(f\"Dice rolls: {dice_rolls}\")"
   ]
  },
  {
   "cell_type": "markdown",
   "id": "c3fdf662",
   "metadata": {},
   "source": [
    "### Example 2: Generating random data for a scatter plot\n",
    "\n"
   ]
  },
  {
   "cell_type": "code",
   "execution_count": null,
   "id": "50459554",
   "metadata": {},
   "outputs": [],
   "source": [
    "#Example 2: Generating random data for a scatter plot\n",
    "import matplotlib.pyplot as plt\n",
    "\n",
    "n_points = 100\n",
    "x = np.random.rand(n_points)\n",
    "y = np.random.rand(n_points)\n",
    "\n",
    "plt.scatter(x, y)\n",
    "plt.show()"
   ]
  },
  {
   "cell_type": "markdown",
   "id": "6ddb4fe8",
   "metadata": {},
   "source": [
    "### Example 3: Creating a normally distributed dataset\n",
    "\n"
   ]
  },
  {
   "cell_type": "code",
   "execution_count": null,
   "id": "cfe8c826",
   "metadata": {},
   "outputs": [],
   "source": [
    "#Example 3: Creating a normally distributed dataset\n",
    "mean = 0\n",
    "std = 1\n",
    "num_samples = 1000\n",
    "data = np.random.normal(mean, std, num_samples)\n",
    "\n",
    "plt.hist(data, bins=30)\n",
    "plt.show()"
   ]
  },
  {
   "cell_type": "markdown",
   "id": "408ebd76",
   "metadata": {},
   "source": [
    "# Saving and Loading NumPy Arrays 💾\n",
    "\n",
    "NumPy provides functions to save arrays to disk and load them back later."
   ]
  },
  {
   "cell_type": "code",
   "execution_count": null,
   "id": "885351dd",
   "metadata": {},
   "outputs": [],
   "source": [
    "arr = np.array([[1, 2, 3], [4, 5, 6]])\n",
    "\n",
    "# Save the array to a file\n",
    "np.save(\"my_array.npy\", arr)\n",
    "\n",
    "# Save multiple arrays to a single file\n",
    "arr1 = np.array([1, 2, 3])\n",
    "arr2 = np.array([4, 5, 6])\n",
    "np.savez(\"multiple_arrays.npz\", array1=arr1, array2=arr2)\n",
    "\n",
    "# Load the array from the file\n",
    "loaded_arr = np.load(\"my_array.npy\")\n",
    "print(f\"Loaded array:\\n{loaded_arr}\")\n",
    "\n",
    "# Load multiple arrays from the file\n",
    "loaded_data = np.load(\"multiple_arrays.npz\")\n",
    "print(f\"Loaded array1: {loaded_data['array1']}\")\n",
    "print(f\"Loaded array2: {loaded_data['array2']}\")\n",
    "\n",
    "#It's important to close the .npz file after loading\n",
    "loaded_data.close()"
   ]
  },
  {
   "cell_type": "markdown",
   "id": "5c6c5c62",
   "metadata": {},
   "source": [
    "### Example 1: Saving and loading preprocessed data\n",
    "\n"
   ]
  },
  {
   "cell_type": "code",
   "execution_count": null,
   "id": "ced42c60",
   "metadata": {},
   "outputs": [],
   "source": [
    "#Example 1: Saving and loading preprocessed data\n",
    "preprocessed_data = np.random.rand(100, 10)\n",
    "np.save(\"preprocessed_data.npy\", preprocessed_data)\n",
    "\n",
    "loaded_data = np.load(\"preprocessed_data.npy\")\n",
    "print(f\"Loaded data shape: {loaded_data.shape}\")"
   ]
  },
  {
   "cell_type": "markdown",
   "id": "7539634e",
   "metadata": {},
   "source": [
    "### Example 2: Saving and loading model weights\n",
    "\n"
   ]
  },
  {
   "cell_type": "code",
   "execution_count": null,
   "id": "5486e087",
   "metadata": {},
   "outputs": [],
   "source": [
    "#Example 2: Saving and loading model weights\n",
    "model_weights_layer1 = np.random.rand(10, 5)\n",
    "model_weights_layer2 = np.random.rand(5, 1)\n",
    "\n",
    "np.savez(\"model_weights.npz\", layer1=model_weights_layer1, layer2=model_weights_layer2)\n",
    "\n",
    "loaded_weights = np.load(\"model_weights.npz\")\n",
    "print(f\"Layer 1 weights shape: {loaded_weights['layer1'].shape}\")\n",
    "print(f\"Layer 2 weights shape: {loaded_weights['layer2'].shape}\")\n",
    "loaded_weights.close()"
   ]
  },
  {
   "cell_type": "markdown",
   "id": "6eb0426a",
   "metadata": {},
   "source": [
    "### Example 3: Archiving simulation results\n",
    "\n"
   ]
  },
  {
   "cell_type": "code",
   "execution_count": null,
   "id": "b9aef716",
   "metadata": {},
   "outputs": [],
   "source": [
    "#Example 3: Archiving simulation results\n",
    "time_steps = np.arange(0, 10, 0.1)\n",
    "simulation_data = np.random.rand(len(time_steps), 3) # 3 variables\n",
    "\n",
    "np.savez(\"simulation_results.npz\", time=time_steps, data=simulation_data)\n",
    "\n",
    "loaded_results = np.load(\"simulation_results.npz\")\n",
    "print(f\"Time steps shape: {loaded_results['time'].shape}\")\n",
    "print(f\"Simulation data shape: {loaded_results['data'].shape}\n",
    "\")\n",
    "loaded_results.close()"
   ]
  },
  {
   "cell_type": "markdown",
   "id": "a6a6df69",
   "metadata": {},
   "source": [
    "# Project: Image Manipulation with NumPy 🖼️\n",
    "\n",
    "In this project, we'll load an image, perform basic transformations, and display the results.\n",
    "\n",
    "**Steps:**\n",
    "\n",
    "1.  Load an image using a library like `matplotlib.image` or `PIL (Pillow)`.\n",
    "2.  Convert the image to a NumPy array.\n",
    "3.  Perform transformations: grayscale conversion, resizing, cropping, color manipulation.\n",
    "4.  Display the original and transformed images.\n",
    "\n",
    "**(Note: This project requires the `matplotlib` library and an image file.  Since the environment cannot handle image files directly, the code will show the steps but will use a dummy array instead of a real image.)**"
   ]
  },
  {
   "cell_type": "code",
   "execution_count": null,
   "id": "e69cfd77",
   "metadata": {},
   "outputs": [],
   "source": [
    "import numpy as np\n",
    "import matplotlib.pyplot as plt\n",
    "\n",
    "# 1. Load the image (replace with actual image loading when possible)\n",
    "#from matplotlib import image\n",
    "#image = image.imread('my_image.png') # Replace 'my_image.png' with your image file\n",
    "\n",
    "# Create a dummy image array for demonstration purposes\n",
    "image = np.random.randint(0, 256, (100, 150, 3), dtype=np.uint8)  # Example RGB image\n",
    "\n",
    "# 2. Grayscale conversion\n",
    "grayscale_image = np.mean(image, axis=2, dtype=np.uint8)\n",
    "\n",
    "# 3. Resizing (using slicing for simplicity - proper resizing requires interpolation)\n",
    "resized_image = grayscale_image[::2, ::2] #down sample with the factor 2\n",
    "\n",
    "# 4. Cropping\n",
    "cropped_image = resized_image[10:40, 20:50]  #crop the image\n",
    "\n",
    "# 5. Display the images\n",
    "plt.figure(figsize=(10, 5))\n",
    "\n",
    "plt.subplot(1, 3, 1)\n",
    "plt.imshow(image)\n",
    "plt.title(\"Original Image\")\n",
    "plt.axis('off')\n",
    "\n",
    "plt.subplot(1, 3, 2)\n",
    "plt.imshow(grayscale_image, cmap='gray')\n",
    "plt.title(\"Grayscale Image\")\n",
    "plt.axis('off')\n",
    "\n",
    "plt.subplot(1, 3, 3)\n",
    "plt.imshow(cropped_image, cmap='gray')\n",
    "plt.title(\"Cropped Image\")\n",
    "plt.axis('off')\n",
    "\n",
    "plt.tight_layout()\n",
    "plt.show()\n",
    "\n",
    "print(\"All done! (Displaying dummy images due to environment limitations)\")"
   ]
  }
 ],
 "metadata": {},
 "nbformat": 4,
 "nbformat_minor": 5
}
